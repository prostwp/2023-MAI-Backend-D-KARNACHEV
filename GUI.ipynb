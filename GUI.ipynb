{
  "nbformat": 4,
  "nbformat_minor": 0,
  "metadata": {
    "colab": {
      "provenance": [],
      "authorship_tag": "ABX9TyOGS62MOEyAed1D8pXPAS3b",
      "include_colab_link": true
    },
    "kernelspec": {
      "name": "python3",
      "display_name": "Python 3"
    },
    "language_info": {
      "name": "python"
    }
  },
  "cells": [
    {
      "cell_type": "markdown",
      "metadata": {
        "id": "view-in-github",
        "colab_type": "text"
      },
      "source": [
        "<a href=\"https://colab.research.google.com/github/prostwp/2023-MAI-Backend-D-KARNACHEV/blob/main/GUI.ipynb\" target=\"_parent\"><img src=\"https://colab.research.google.com/assets/colab-badge.svg\" alt=\"Open In Colab\"/></a>"
      ]
    },
    {
      "cell_type": "code",
      "execution_count": null,
      "metadata": {
        "id": "O11qBe3Pqt_b"
      },
      "outputs": [],
      "source": [
        "class MultiWindows(QtGui.QMainWindow):\n",
        "\n",
        "    def __init__(self, param):\n",
        "        self.__windows = []\n",
        "\n",
        "    def addwindow(self, window):\n",
        "        self.__windows.append(window)\n",
        "\n",
        "    def show():\n",
        "        for current_child_window in self.__windows:\n",
        "             current_child_window.exec_() # probably show will do the same trick\n",
        "\n",
        "class PlanetApp(QtGui.QDialog):\n",
        "    def __init__(self, parent, planet):\n",
        "       QtGui.QDialog.__init__(self, parent)\n",
        "       # do cool stuff here\n",
        "\n",
        "class AnimalApp(QtGui.QDialog):\n",
        "    def __init__(self, parent, animal):\n",
        "       QtGui.QDialog.__init__(self, parent)\n",
        "       # do cool stuff here\n",
        "\n",
        "if __name__==\"__main__\":\n",
        "    import sys # really need this here??\n",
        "\n",
        "    app = QtGui.QApplication(sys.argv)\n",
        "\n",
        "    jupiter = PlanetApp(None, \"jupiter\")\n",
        "    venus = PlanetApp(None, \"venus\")\n",
        "    windows = MultiWindows()\n",
        "    windows.addWindow(jupiter)\n",
        "    windows.addWindow(venus)\n",
        "\n",
        "    windows.show()\n",
        "    app.exec_()"
      ]
    }
  ]
}